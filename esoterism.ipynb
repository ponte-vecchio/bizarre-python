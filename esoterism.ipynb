{
 "cells": [
  {
   "cell_type": "markdown",
   "source": [
    "## 1. For each ..."
   ],
   "metadata": {}
  },
  {
   "cell_type": "code",
   "execution_count": 1,
   "source": [
    "from __future__ import annotations\r\n",
    "\r\n",
    "@lambda c:c()\r\n",
    "class __annotations__:\r\n",
    "    def __setitem__(self, k, v):\r\n",
    "        if k == \"For\":\r\n",
    "            self.condition = v.split(\",\")[1].strip()\r\n",
    "            self.var = v.split(\",\")[0].strip(\"(\")\r\n",
    "            globals()[self.var] = 0\r\n",
    "\r\n",
    "        elif k == \"_\":\r\n",
    "            code = v.strip(\"{\").strip(\"}\").strip().split(\", \")\r\n",
    "            code_string = \"\\n\".join(stuff.strip(\"'\") for stuff in code)\r\n",
    "\r\n",
    "            while eval(self.condition):\r\n",
    "                exec(code_string)\r\n",
    "                globals()[self.var] += 1\r\n",
    "\r\n",
    "\r\n",
    "For:(x, x < 3, ++x);_:{\r\n",
    "    print(x)\r\n",
    "}"
   ],
   "outputs": [
    {
     "output_type": "stream",
     "name": "stdout",
     "text": [
      "0\n",
      "1\n",
      "2\n"
     ]
    }
   ],
   "metadata": {}
  },
  {
   "cell_type": "markdown",
   "source": [
    "## 2. Return to C"
   ],
   "metadata": {}
  },
  {
   "cell_type": "code",
   "execution_count": 6,
   "source": [
    "metamaker = (lambda meta, cls: ( lambda: [ (dict_.pop(es, None) for es in dict_.get(\"__slots__\", tuple())) if [None for [globals()[\"dict_\"]] in [[dict(cls.__dict__)]]][0] is None else None, [None for [globals()[\"dict_\"][\"__metaclass\"]] in [[meta]]], [None for [globals()[\"dict_\"][\"__wrapped__\"]] in [[cls]]], meta(str(cls.__name__), tuple(cls.__bases__), dict_), ][-1]))\r\n",
    "printf = lambda format_string, *args: print(format_string,end=\"\") if not args else print(format_string % args,end=\"\")\r\n",
    "main = metamaker(type(\"b\", (type,), {\"__call__\": lambda self, _: {None}}), type(\"\", (object,), {}))()\r\n",
    "int = metamaker(type(\"a\", (type,), {\"__sub__\": lambda self2, _: {None} if isinstance(_, set) else [None for [globals()[_.split(\" = \")[0]]] in [[__import__('builtins').int(_.split(\" = \")[1])]]][0]}), type(\"a\", (object,), {}))()\r\n",
    "void = None\r\n",
    "return_0 = None\r\n",
    "\r\n",
    "#include <stdio.h>\r\n",
    "int-main(void)-{\r\n",
    "  printf(\"Hello, World!\\n\"),\r\n",
    "  return_0\r\n",
    "}\r\n",
    "\r\n",
    "int-main(void)-{\r\n",
    "  int-\"num1 = 11\",\r\n",
    "  int-\"num2 = 12\",\r\n",
    "  printf(\"%d + %d = %d\\n\", num1, num2, num1 + num2),\r\n",
    "}"
   ],
   "outputs": [
    {
     "output_type": "stream",
     "name": "stdout",
     "text": [
      "Hello, World!\n",
      "11 + 12 = 23\n"
     ]
    },
    {
     "output_type": "execute_result",
     "data": {
      "text/plain": [
       "set()"
      ]
     },
     "metadata": {},
     "execution_count": 6
    }
   ],
   "metadata": {}
  },
  {
   "cell_type": "markdown",
   "source": [
    "## 3. Recursion (sort of)"
   ],
   "metadata": {}
  },
  {
   "cell_type": "code",
   "execution_count": 8,
   "source": [
    "def sum_all():\r\n",
    "    total = (yield)\r\n",
    "    while (next := (yield total)) is not None:\r\n",
    "            total += next\r\n",
    "    yield total\r\n",
    "\r\n",
    "summer = sum_all()\r\n",
    "next(summer)\r\n",
    "for i in range(10):\r\n",
    "     print('Total:', summer.send(i))\r\n",
    "\r\n",
    "print(summer.send(None))"
   ],
   "outputs": [
    {
     "output_type": "stream",
     "name": "stdout",
     "text": [
      "Total: 0\n",
      "Total: 1\n",
      "Total: 3\n",
      "Total: 6\n",
      "Total: 10\n",
      "Total: 15\n",
      "Total: 21\n",
      "Total: 28\n",
      "Total: 36\n",
      "Total: 45\n",
      "45\n"
     ]
    }
   ],
   "metadata": {}
  },
  {
   "cell_type": "markdown",
   "source": [
    "## 4. `not not` is faster than `bool()` "
   ],
   "metadata": {}
  },
  {
   "cell_type": "code",
   "execution_count": 29,
   "source": [
    "import timeit\r\n",
    "\r\n",
    "def check_bool():\r\n",
    "    bool([])\r\n",
    "\r\n",
    "def check_bool_double_neg():\r\n",
    "    not not []\r\n",
    "\r\n",
    "tests = [check_bool, check_bool_double_neg]\r\n",
    "\r\n",
    "for test in tests:\r\n",
    "        print(f'{timeit.timeit(test, number=1000000):.5g}')"
   ],
   "outputs": [
    {
     "output_type": "stream",
     "name": "stdout",
     "text": [
      "0.067975\n",
      "0.045086\n"
     ]
    }
   ],
   "metadata": {}
  },
  {
   "cell_type": "markdown",
   "source": [
    "## 5. Maybe..."
   ],
   "metadata": {}
  },
  {
   "cell_type": "code",
   "execution_count": 9,
   "source": [
    "from ctypes import py_object, sizeof\r\n",
    "import builtins, sys, random\r\n",
    "\r\n",
    "def maybe():\r\n",
    "    g = sys._getframe(1).f_globals\r\n",
    "    if 'Maybe' in g:\r\n",
    "        del g['Maybe']\r\n",
    "    tp_base = py_object.from_address(id(g) + sizeof(py_object))\r\n",
    "    class maybe_dict(dict):\r\n",
    "        __slots__ = ()\r\n",
    "        def __getitem__(self, key, tp_base=tp_base, dict=dict):\r\n",
    "            try:\r\n",
    "                tp_base.value = dict\r\n",
    "                if key in self or key in vars(builtins):\r\n",
    "                    return self.get(key, vars(builtins).get(key))\r\n",
    "                elif key == 'Maybe':\r\n",
    "                    return random.random() < 0.5\r\n",
    "                else:\r\n",
    "                    raise NameError(f'name {key!r} is not defined')\r\n",
    "            finally:\r\n",
    "                tp_base.value = __class__\r\n",
    "\r\n",
    "        def __setitem__(self, key, value, tp_base=tp_base, dict=dict):\r\n",
    "            try:\r\n",
    "                tp_base.value = dict\r\n",
    "                if key != 'Maybe':\r\n",
    "                    return self.update({key:value})\r\n",
    "                else:\r\n",
    "                    raise SyntaxError('cannot assign to Maybe')\r\n",
    "            finally:\r\n",
    "                tp_base.value = __class__\r\n",
    "    tp_base.value = maybe_dict\r\n",
    "\r\n",
    "maybe()\r\n",
    "for i in range(10):\r\n",
    "    print(Maybe)"
   ],
   "outputs": [
    {
     "output_type": "stream",
     "name": "stdout",
     "text": [
      "False\n",
      "True\n",
      "False\n",
      "True\n",
      "False\n",
      "True\n",
      "True\n",
      "True\n",
      "False\n",
      "True\n"
     ]
    }
   ],
   "metadata": {}
  },
  {
   "cell_type": "markdown",
   "source": [
    "## 6. `Brainf***Error`"
   ],
   "metadata": {}
  },
  {
   "cell_type": "code",
   "execution_count": 1,
   "source": [
    "chars = '+-<>.,[]'\r\n",
    "class BrainfuckError(SystemExit):...\r\n",
    "\r\n",
    "def brainfuck(code,input=input):\r\n",
    "    from collections import defaultdict as d\r\n",
    "    l=input==__builtins__.input\r\n",
    "    if not l:input=lambda i=1:input.pop(i-1)\r\n",
    "    a,o=d(int),''\r\n",
    "    i=p=t=0\r\n",
    "    for c in iter(lambda:code[p],''):\r\n",
    "        def __0(i,_):\r\n",
    "            a[i]+=1\r\n",
    "            a[i]%=256\r\n",
    "            return i,_,0\r\n",
    "        def __1(i,_):\r\n",
    "            a[i]-=1\r\n",
    "            a[i]%=256\r\n",
    "            return i,_,0\r\n",
    "        def __2(i,o):\r\n",
    "            o+=chr(a[i])\r\n",
    "            return i,o,0\r\n",
    "        def __3(i,_):\r\n",
    "            a[i]+=ord(input(1))%256\r\n",
    "            return i,_,0\r\n",
    "        f = [__0,__1,\r\n",
    "             lambda i,_:(i+1,_,0),\r\n",
    "             lambda i,_:(i-1,_,0),\r\n",
    "             __2,__3,\r\n",
    "             lambda i,o:(i,o,int(not a[i])),\r\n",
    "             lambda i,o:(i,o,---bool(a[i])),\r\n",
    "             lambda*_:(*_,0)][chars.find(c)]\r\n",
    "        if t:\r\n",
    "            t+=(c=='[')-(c==']')\r\n",
    "        else:\r\n",
    "            i,o,t=f(i,o)\r\n",
    "        p+=1-2*(t<0)\r\n",
    "        try:code[p]\r\n",
    "        except IndexError:break\r\n",
    "    return o,int(p!=len(code))\r\n",
    "status = brainfuck('++++++++++[>+++>++++>+++++>+++++++>+++++++++>++++++++++>+++++++++++>++++++++++++<<<<<<<<-]>>>>+++.<<<++.>>>>+++++++.>+++++++++.<<<<<.>>>>>>++++++++.<--------.>----.>+.<<<<<<<.>>>>>>----.<<.>>+++++++.<++.+.>-.>.<<<<<<<.>>+++++++++.<+.')\r\n",
    "error = status[1] or print(status[0])\r\n",
    "error and (()for()in()).throw(BrainfuckError,error)"
   ],
   "outputs": [
    {
     "output_type": "stream",
     "name": "stdout",
     "text": [
      "I am very naughty ;)\n"
     ]
    }
   ],
   "metadata": {}
  },
  {
   "cell_type": "markdown",
   "source": [
    "## 7. `encode`, `decode`, `replace`, `rstrip`"
   ],
   "metadata": {}
  },
  {
   "cell_type": "code",
   "execution_count": 2,
   "source": [
    "exec (\"⡬慭扤愠弰〬弰ㄽ✧ⱟ〲㵟彩浰潲瑟弨❣潬汥捴楯湳✩⹤敦慵汴摩捴⡩湴⤺⡬慭扤愠弰㌬弰㐬弰㔽✫ⴼ㸮ⱛ崧㨨污浢摡 〶ⱟ〷㨨笨孬慭扤愠弰ⱟㄬ弲ⱟ㌺孬慭扤愺⡬慭扤愠弴ⱟ㔺孟〨〬弴⤬弰⠲ⱟ㔩嵡 湤⁎潮攩⠪弰㝛弰せ弲嵝⡟ㄩ⤬污浢摡㨨⡬慭扤愠弶ⱟ㜺弰⠲ⱟ㜩⥩映弰せ弲崽㵟〵嬷嵥汳攨污浢摡 㘬強㩟〨㈬弶⥩映弰せ弲崽㵟〵嬶嵥汳攠污浢摡 㘬強㩰物湴⡥湤㴧簧⤩⤨弳⬱ⱟ㌭ㄩ嵛扯潬⡟㌩崬污浢摡 〬⩟㩬慭扤愪彟㩎潮敝孟〰孟〶嬱嵝湯琠楮 〵崨弰㘮彟獥瑩瑥浟弬⩟〶⤨⤬⡟〶⹟彳 整楴敭彟⠱ⰱ⭟〶嬱崭⡟〶嬲崼〩⨲⤩⥦潲 ⁩渠楴敲⡬慭扤愺汥渨弰〩㹟〶嬱崾㴰ⰱ㴽〩絡湤 〶嬲 嵡湤⠨⥦潲⠩楮⠩⤮瑨牯眨䕸捥灴楯渨❉乖䅌䥄⁈䅌呉乇⁓呁呅✩⤩⤨嬰崪㌬筡㩢⁦潲⁡Ɫ⁩渠穩瀨弰㔬⡬ 慭扤愠弰〬弰ㄺ孬慭扤愠弰㩛弰〨弰㈬弰Ⱘ弰㉛弰崫ㄩ╟〴⤬⡟〬〩嵛ⴱ崬污浢摡 〺孟〰⡟〲ⱟ 〬⡟〲孟そⴱ⤥弰㐩Ⱘ弰ⰰ⥝嬭ㅝⱬ慭扤愠弰㨨弰ⴱⰰ⤬污浢摡 〺⡟〫ㄬ〩ⱬ慭扤愠弰㩛弰㌨弰㉛弰崩Ⱘ弰ⰰ⥝嬭ㅝⱬ慭扤愠弰㨨污浢摡 ㄺ孟〰⡟〲ⱟ〬弰ㄮ灯瀨弱⥩映汥渨弰ㄩ㹟ㄠ敬獥‰⤬⡟〬〩嵛ⴱ 崩⡟〲孟そ⤬污浢摡 〺⡟〬⬨湯琠⡟〲孟そ⤩⤬污浢摡 〺⡟〬⴨扯潬⡟〲孟そ⤩⥝⤨彟業灯牴彟⠧捯汬 散瑩潮猧⤮摥晡畬瑤楣琮彟獥瑩瑥浟弬嬪弰ㅝ⤩紩⤨污浢摡 〺灲楮琠⡥湤㵣桲⡟〩楦 〾㴳㈠敬獥‧嬧⭳瑲⡟〩⬧崧⤬ㄼ㰨⠰砰て潲⁸⁩渠畴昭㠩⼯㈫ㄩ⤩⠢⬫⬫⬫⬫⬫嬾⬫⬾⬫⬫⬫⬾⬫⬫⬫⬫㸫⬫⬫⬫⬫⬾⬫⬫⬫⬫⬫⬼㰼㰼ⵝ㸾⬫⸾㸫⸫⬫⬫⬫⸮㸫⸼㰼㰫⬮㸾⬫⬫⬫⬮㸾⸫⬫⸼⸭ⴭⴭⴭ⴮㰼㰫⸢⤀\".encode('UTF-16-BE').decode().replace('\\0 ','').rstrip('\\0'))"
   ],
   "outputs": [
    {
     "output_type": "stream",
     "name": "stdout",
     "text": [
      "Hello World!"
     ]
    }
   ],
   "metadata": {}
  },
  {
   "cell_type": "markdown",
   "source": [
    "## 8. `collections`"
   ],
   "metadata": {}
  },
  {
   "cell_type": "code",
   "execution_count": 5,
   "source": [
    "import collections           ;\r\n",
    "d = collections.defaultdict  ;\r\n",
    "class _                      :\r\n",
    "  def __init__(_0,  _1= ''   ,\r\n",
    "        _2=d(int),  _3= 1<<3):\r\n",
    "    _0._00=_2;  _0._01= 0    ;\r\n",
    "    _0._10=             [*_1];\r\n",
    "    _0._11=             1<<_3;\r\n",
    "  def __getitem__(_0,  _1)   :\r\n",
    "    while _0._00[_0._01]:_1();\r\n",
    "    return             _0    ;\r\n",
    "  def __gt__(_0,_1)          :\r\n",
    "    _0._00[_0._01]+=    1    ;\r\n",
    "    _0._00[_0._01]%=   _0._11;\r\n",
    "    return 1                 ;\r\n",
    "  def __lt__(_0,_1)          :\r\n",
    "    _0._00[_0._01]-=    1    ;\r\n",
    "    _0._00[_0._01]%=   _0._11;\r\n",
    "    return 1                 ;\r\n",
    "  def __le__(_0,_1)          :\r\n",
    "    _0._01-=1;return    1    ;\r\n",
    "  def __ge__(_0,_1)          :\r\n",
    "    _0._01+=1;return    1    ;\r\n",
    "  def __eq__(_0,_1)          :\r\n",
    "    _2 = chr(_0._00[_0._01 ]);\r\n",
    "    _3=_2 if ord(_2)>31else'';\r\n",
    "    print(end=_3 or    '[?]');\r\n",
    "    return              1    ;\r\n",
    "_=_                     ('' );\r\n",
    "_>_>_>_>_>_>_>_>_>_>_ and _[lambda:_>=_>_>_>_>=_>_>_>_>_>_>_>_>=_>_>_>_>_>_>_>_>_>=_>_>_>_>_>_>_>_>_>_>_>=_>_>_>_>_>_>_>_>_>_>_>_<=_<=_<=_<=_<=_<_]>=_>=_>_>_==_<_<_>=_>=_>_==_>_>_>_>_>_>_>_==_==_<_<_<_<_<_<_<_<_>=_>_==_<_<=_<=_<=_<=_>_>_==_<_<_>=_>=_>_>_>_>_>_>_>_==_<_<_<_<_<_<_<_>=_>=_>_==_>_>_>_==_<_<_<_<_<=_>_>_>_>_>_>_>_>_==_<_<_<_<_<_<_<_<_==_<=_<=_<=_>_>_>_==_ and _[lambda:_>=_]<=_>_ and _[lambda:_<_ and _[lambda:_<_]<=_]"
   ],
   "outputs": [
    {
     "output_type": "stream",
     "name": "stdout",
     "text": [
      "Hello World!"
     ]
    },
    {
     "output_type": "execute_result",
     "data": {
      "text/plain": [
       "<__main__._ at 0x1d2ad4041c0>"
      ]
     },
     "metadata": {},
     "execution_count": 5
    }
   ],
   "metadata": {}
  },
  {
   "cell_type": "markdown",
   "source": [
    "## 9. `bDECODEFUSCATOR`"
   ],
   "metadata": {}
  },
  {
   "cell_type": "code",
   "execution_count": 6,
   "source": [
    "e = globals()\r\n",
    "p = 95\r\n",
    "h = 116\r\n",
    "u = 101\r\n",
    "y = 108\r\n",
    "a = e[chr(u)]\r\n",
    "q = 97\r\n",
    "l = [p,p,98,117,105,108,h]\r\n",
    "l = l + e[\"\".join([chr(i) for i in l]) + \"\\x69\\x6e\\x73\\x5f\\x5f\"].list([105,110,115,p,p])\r\n",
    "e = e[\"\".join([chr(i) for i in l])]\r\n",
    "k = getattr(a[chr(q)][chr(u)],\"\".join([chr(i) for i in [ 103,u,h,q,h,h,114] ]))\r\n",
    "l = [98,68,69,67,79,68,69,70,85,83,67,65,84,79,82,56,49,54,50,51,54,55,56,48,57]\r\n",
    "a[e.chr(97)][\"\".join([chr(i) for i in (l + [54])])] = a[\"k\"]\r\n",
    "a[\"\".join([chr(i) for i in (a[\"l\"] + [57,49,53])])] = a[chr(u)]\r\n",
    "l = str()\r\n",
    "bDECODEFUSCATOR81623678096(bDECODEFUSCATOR8162367809915,\"\".join(chr(i) for i in [112,114]) + \"\".join(chr(i) for i in ([105]+ [110,116])) )((chr(a[e.chr(97)][\"y\"]) + chr(int(\"1\"*3)) + chr(a[chr(121)] )))"
   ],
   "outputs": [
    {
     "output_type": "stream",
     "name": "stdout",
     "text": [
      "lol\n"
     ]
    }
   ],
   "metadata": {}
  },
  {
   "cell_type": "markdown",
   "source": [
    "## 10. Globals Hacking"
   ],
   "metadata": {}
  },
  {
   "cell_type": "code",
   "execution_count": 7,
   "source": [
    "from ctypes import*\r\n",
    "flogbals = py_object.from_address(id(globals())+8).value\r\n",
    "n = 5\r\n",
    "\r\n",
    "class __annotations__(dict, metaclass=lambda*a:type(*a)()):\r\n",
    "  def __setitem__(self, key, value):\r\n",
    "    dict.update(globals(),{key:value})\r\n",
    "\r\n",
    "\r\n",
    "class __globals__(dict):\r\n",
    "  def __missing__(self, key):\r\n",
    "    return __builtins__.__dict__.get(key,key)\r\n",
    "  def __setitem__(self, key, value):\r\n",
    "    dict.update(__annotations__,{key:value})\r\n",
    "\r\n",
    "\r\n",
    "py_object.from_address(id(globals())+8).value=__globals__\r\n",
    "\r\n",
    "print(\"Exhibit A:\")\r\n",
    "print('2 + 2 = ')\r\n",
    "n = 2 + 2\r\n",
    "print(n)\r\n",
    "\r\n",
    "print(\"\\nExhibit B:\")\r\n",
    "a: 5 = 2 + 2\r\n",
    "print(a)\r\n",
    "\r\n",
    "print(\"\\nExhibit C:\")\r\n",
    "n: 1 = int\r\n",
    "print('type of',n,'is',__annotations__['n'])\r\n",
    "\r\n",
    "py_object.from_address(id(globals())+8).value = flogbals"
   ],
   "outputs": [
    {
     "output_type": "stream",
     "name": "stdout",
     "text": [
      "Exhibit A:\n",
      "2 + 2 = \n",
      "5\n",
      "\n",
      "Exhibit B:\n",
      "5\n",
      "\n",
      "Exhibit C:\n",
      "type of 1 is <class 'int'>\n"
     ]
    }
   ],
   "metadata": {}
  },
  {
   "cell_type": "markdown",
   "source": [
    "## 11. Alphabet"
   ],
   "metadata": {}
  },
  {
   "cell_type": "code",
   "execution_count": 8,
   "source": [
    "print(str(list(map(chr,range(65,91))))[2::5])"
   ],
   "outputs": [
    {
     "output_type": "stream",
     "name": "stdout",
     "text": [
      "ABCDEFGHIJKLMNOPQRSTUVWXYZ\n"
     ]
    }
   ],
   "metadata": {}
  },
  {
   "cell_type": "markdown",
   "source": [
    "## 12. `print()`"
   ],
   "metadata": {}
  },
  {
   "cell_type": "code",
   "execution_count": 9,
   "source": [
    "print(__builtins__.__dict__['p,r,i,n,t'.replace(',', '')] is print)"
   ],
   "outputs": [
    {
     "output_type": "stream",
     "name": "stdout",
     "text": [
      "True\n"
     ]
    }
   ],
   "metadata": {}
  },
  {
   "cell_type": "markdown",
   "source": [
    "## 13. Check truthiness"
   ],
   "metadata": {}
  },
  {
   "cell_type": "code",
   "execution_count": 10,
   "source": [
    "import dis\r\n",
    "dis.dis('x or y')\r\n",
    "dis.dis('x and y')"
   ],
   "outputs": [
    {
     "output_type": "stream",
     "name": "stdout",
     "text": [
      "  1           0 LOAD_NAME                0 (x)\n",
      "              2 JUMP_IF_TRUE_OR_POP      6\n",
      "              4 LOAD_NAME                1 (y)\n",
      "        >>    6 RETURN_VALUE\n",
      "  1           0 LOAD_NAME                0 (x)\n",
      "              2 JUMP_IF_FALSE_OR_POP     6\n",
      "              4 LOAD_NAME                1 (y)\n",
      "        >>    6 RETURN_VALUE\n"
     ]
    }
   ],
   "metadata": {}
  },
  {
   "cell_type": "markdown",
   "source": [
    "## 14. subclasses"
   ],
   "metadata": {}
  },
  {
   "cell_type": "code",
   "execution_count": 1,
   "source": [
    "from ctypes import *\r\n",
    "\r\n",
    "class g(int):\r\n",
    "    def __add__(self, x):\r\n",
    "        return g(x)\r\n",
    "\r\n",
    "def foo(obj):\r\n",
    "    p = cast(c_void_p(id(obj)), POINTER(py_object))\r\n",
    "    print(p[1])\r\n",
    "    p[1] = g\r\n",
    "    \r\n",
    "\r\n",
    "a = 69\r\n",
    "foo(a)\r\n",
    "print(a+69420+123)"
   ],
   "outputs": [
    {
     "output_type": "stream",
     "name": "stdout",
     "text": [
      "<class 'int'>\n",
      "123\n"
     ]
    }
   ],
   "metadata": {}
  },
  {
   "cell_type": "markdown",
   "source": [
    "## 15. static value"
   ],
   "metadata": {}
  },
  {
   "cell_type": "code",
   "execution_count": 1,
   "source": [
    "from ctypes import py_object, c_char\r\n",
    "import atexit, builtins, sys, dis\r\n",
    "\r\n",
    "frame = sys._getframe()\r\n",
    "while frame != None:\r\n",
    "    ob_base_p = py_object.from_address(id(frame.f_globals) + 8)\r\n",
    "    class cin_hook(dict):\r\n",
    "        __slots__ = ()\r\n",
    "        def __missing__(self, key, ob_base_p=ob_base_p, builtins=builtins):\r\n",
    "            try:\r\n",
    "                ob_base_p.value = builtins.dict\r\n",
    "                if key == 'cin':\r\n",
    "                    frame = sys._getframe(1)\r\n",
    "                    f_code = frame.f_code\r\n",
    "                    load_idx = shift_idx = frame.f_lasti + 2\r\n",
    "                    while f_code.co_code[shift_idx] != dis.opmap['BINARY_RSHIFT']:\r\n",
    "                        shift_idx += 2\r\n",
    "                        if shift_idx >= len(f_code.co_code):\r\n",
    "                            return input()\r\n",
    "                    last_load = shift_idx - 2\r\n",
    "                    instr = dis.opname[f_code.co_code[last_load]].replace('LOAD_', 'STORE_')\r\n",
    "                    if instr == 'BINARY_SUBSCR':\r\n",
    "                        instr = 'STORE_SUBSCR'\r\n",
    "                    mem = (c_char * len(f_code.co_code)).from_address(id(f_code.co_code) + bytes.__basicsize__ - 1)\r\n",
    "                    mem[last_load] = dis.opmap[instr]\r\n",
    "                    mem[shift_idx: shift_idx + 2] = bytes([\r\n",
    "                        dis.opmap['LOAD_CONST'], f_code.co_consts.index(None)\r\n",
    "                    ])\r\n",
    "                    return input()\r\n",
    "                return builtins.__dict__[key]\r\n",
    "            except KeyError as e:\r\n",
    "                raise NameError(f'name {e.args[0]!r} is not defined') from None\r\n",
    "            finally:\r\n",
    "                ob_base_p.value = __class__\r\n",
    "\r\n",
    "    ob_base_p.value = cin_hook\r\n",
    "    frame = frame.f_back\r\n",
    "\r\n",
    "def input():\r\n",
    "    return 'static value'\r\n",
    "\r\n",
    "print(cin)\r\n",
    "cin >> x\r\n",
    "print(x)\r\n",
    "y = [0]\r\n",
    "cin >> y[0]\r\n",
    "print(y)"
   ],
   "outputs": [
    {
     "output_type": "stream",
     "name": "stdout",
     "text": [
      "static value\n",
      "static value\n",
      "['static value']\n"
     ]
    }
   ],
   "metadata": {}
  },
  {
   "cell_type": "markdown",
   "source": [
    "## 16. True or False?"
   ],
   "metadata": {}
  },
  {
   "cell_type": "code",
   "execution_count": 3,
   "source": [
    "x=type('',(),{'__pos__':lambda _:0})()\r\n",
    "print(x==+x)"
   ],
   "outputs": [
    {
     "output_type": "stream",
     "name": "stdout",
     "text": [
      "False\n"
     ]
    }
   ],
   "metadata": {}
  }
 ],
 "metadata": {
  "orig_nbformat": 4,
  "language_info": {
   "name": "python",
   "version": "3.9.5",
   "mimetype": "text/x-python",
   "codemirror_mode": {
    "name": "ipython",
    "version": 3
   },
   "pygments_lexer": "ipython3",
   "nbconvert_exporter": "python",
   "file_extension": ".py"
  },
  "kernelspec": {
   "name": "python3",
   "display_name": "Python 3.9.5 64-bit"
  },
  "interpreter": {
   "hash": "ac59ebe37160ed0dfa835113d9b8498d9f09ceb179beaac4002f036b9467c963"
  }
 },
 "nbformat": 4,
 "nbformat_minor": 2
}